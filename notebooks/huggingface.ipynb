{
 "cells": [
  {
   "cell_type": "code",
   "execution_count": 1,
   "id": "5d02b5cf",
   "metadata": {},
   "outputs": [
    {
     "name": "stderr",
     "output_type": "stream",
     "text": [
      "c:\\Drive\\Case 3\\The Wheels in Motion\\.venv\\Lib\\site-packages\\tqdm\\auto.py:21: TqdmWarning: IProgress not found. Please update jupyter and ipywidgets. See https://ipywidgets.readthedocs.io/en/stable/user_install.html\n",
      "  from .autonotebook import tqdm as notebook_tqdm\n"
     ]
    }
   ],
   "source": [
    "import pandas as pd\n",
    "import matplotlib.pyplot as plt\n",
    "import seaborn as sns\n",
    "from transformers import pipeline\n",
    "from tqdm import tqdm"
   ]
  },
  {
   "cell_type": "code",
   "execution_count": 2,
   "id": "5570aa55",
   "metadata": {},
   "outputs": [
    {
     "data": {
      "application/vnd.microsoft.datawrangler.viewer.v0+json": {
       "columns": [
        {
         "name": "index",
         "rawType": "int64",
         "type": "integer"
        },
        {
         "name": "Review",
         "rawType": "object",
         "type": "string"
        }
       ],
       "conversionMethod": "pd.DataFrame",
       "ref": "013e1aa1-d529-4d74-9c2e-4f284fc34df8",
       "rows": [
        [
         "0",
         "Bought 2017 Optima Hybrid in November 17. It was the only Hybrid Optima on the lot out of dozens of gas ones. I had been comparing Accord, Camry, and Malibu Hybrids and read the Optima Hybrid got 46 mpg on the hwy. That was only 2 or 3 miles per gallon less than the best of them so I did some pricing. My choice was for the 26,800 premium with pretty standard features, good radio with Android Audio and SiriusXM, dual zone climate control, tilt, cruise control,pwr    windows and Door locks. At the time of purchase, there was a $5,000 rebate offered. I could not believe it. All this car for less than a Prius prime.  I have driven it to over 18k miles in 6 months after taking several trips and I really enjoy and appreciate this car. My first trip was from Phoenix to Vegas. Did it on one tank of gas. The car went 828 miles. Very impressive! Really like having a 6 speed transmission instead of a CVT. Driven properly there are days when it averages 60 to 61 mpg city hwy mix. It can go up to 80mph in electric mode. 10 year 100 k warranty and a 5star safety rating I think the value is unbeatable."
        ],
        [
         "1",
         " You get a lot for your money and great performance. We feel like this Has been a great buy for us."
        ],
        [
         "2",
         " This car is amazing and have no complaints. You get a lot of bang for your buck."
        ],
        [
         "3",
         "At 11k now in a lease for 39 months and it only gets 25mpg in city.  3 times dealerships say it just not broken in yet.  Do not buy!!! Very poor service follow up.  Filed case with corporate and still have yet to hear from them. Over a month now."
        ],
        [
         "4",
         "I've owned BMW, Lexus, Mercedes-Benz in the lasts 10 years and have been shopping around for a PHEV for months. I was considering and test driving the Ford Fusion Energi, Chevy Volt, Totoyta Prius, Nissan Leaf, BMW i3, Huyndai Sonota Hybrid, Tesla Model S but finally traded in my Mercedes for a KIA Optima EX PHEV for its styling, infotaiment system, technologies, range, price/value ratio, long warranty. This car met all my expectations: stylish, smooth/quiet/comfortable interior, reasonable EV range. It did deliver the 29 all EV range as advertised. I've installed a 240V outlet and used an inexpensive level 2 charger I bought from Amazon.com for less than $250, it charged the car from empty to full battery in less than 3 hours.  Well done KIA!"
        ]
       ],
       "shape": {
        "columns": 1,
        "rows": 5
       }
      },
      "text/html": [
       "<div>\n",
       "<style scoped>\n",
       "    .dataframe tbody tr th:only-of-type {\n",
       "        vertical-align: middle;\n",
       "    }\n",
       "\n",
       "    .dataframe tbody tr th {\n",
       "        vertical-align: top;\n",
       "    }\n",
       "\n",
       "    .dataframe thead th {\n",
       "        text-align: right;\n",
       "    }\n",
       "</style>\n",
       "<table border=\"1\" class=\"dataframe\">\n",
       "  <thead>\n",
       "    <tr style=\"text-align: right;\">\n",
       "      <th></th>\n",
       "      <th>Review</th>\n",
       "    </tr>\n",
       "  </thead>\n",
       "  <tbody>\n",
       "    <tr>\n",
       "      <th>0</th>\n",
       "      <td>Bought 2017 Optima Hybrid in November 17. It w...</td>\n",
       "    </tr>\n",
       "    <tr>\n",
       "      <th>1</th>\n",
       "      <td>You get a lot for your money and great perfor...</td>\n",
       "    </tr>\n",
       "    <tr>\n",
       "      <th>2</th>\n",
       "      <td>This car is amazing and have no complaints. Y...</td>\n",
       "    </tr>\n",
       "    <tr>\n",
       "      <th>3</th>\n",
       "      <td>At 11k now in a lease for 39 months and it onl...</td>\n",
       "    </tr>\n",
       "    <tr>\n",
       "      <th>4</th>\n",
       "      <td>I've owned BMW, Lexus, Mercedes-Benz in the la...</td>\n",
       "    </tr>\n",
       "  </tbody>\n",
       "</table>\n",
       "</div>"
      ],
      "text/plain": [
       "                                              Review\n",
       "0  Bought 2017 Optima Hybrid in November 17. It w...\n",
       "1   You get a lot for your money and great perfor...\n",
       "2   This car is amazing and have no complaints. Y...\n",
       "3  At 11k now in a lease for 39 months and it onl...\n",
       "4  I've owned BMW, Lexus, Mercedes-Benz in the la..."
      ]
     },
     "execution_count": 2,
     "metadata": {},
     "output_type": "execute_result"
    }
   ],
   "source": [
    "df = pd.read_csv('../data/raw/car_reviews.csv')\n",
    "df.head()"
   ]
  },
  {
   "cell_type": "code",
   "execution_count": 3,
   "id": "b14267de",
   "metadata": {},
   "outputs": [
    {
     "name": "stdout",
     "output_type": "stream",
     "text": [
      "<class 'pandas.core.frame.DataFrame'>\n",
      "RangeIndex: 5959 entries, 0 to 5958\n",
      "Data columns (total 1 columns):\n",
      " #   Column  Non-Null Count  Dtype \n",
      "---  ------  --------------  ----- \n",
      " 0   Review  5959 non-null   object\n",
      "dtypes: object(1)\n",
      "memory usage: 46.7+ KB\n"
     ]
    }
   ],
   "source": [
    "df.info()"
   ]
  },
  {
   "cell_type": "markdown",
   "id": "c8593a5d",
   "metadata": {},
   "source": [
    "# Zero-shot Classification"
   ]
  },
  {
   "cell_type": "markdown",
   "id": "6fe9e47e",
   "metadata": {},
   "source": [
    "Model Name: facebook/bart-large-mnli\n",
    "\n",
    "Why?\n",
    "\n",
    "    It's a popular zero-shot text classification model.\n",
    "\n",
    "    Based on BART transformer trained on MNLI (Multi-Genre Natural Language Inference).\n",
    "\n",
    "    High performance in zero-shot inference tasks with label definitions.\n",
    "\n",
    "    Efficient for multi-label or single-label classification without needing retraining."
   ]
  },
  {
   "cell_type": "code",
   "execution_count": null,
   "id": "32a54a6f",
   "metadata": {},
   "outputs": [
    {
     "name": "stderr",
     "output_type": "stream",
     "text": [
      "Device set to use cpu\n",
      "Classifying topics:   1%|          | 37/5959 [02:29<5:41:27,  3.46s/it] "
     ]
    }
   ],
   "source": [
    "labels = [\n",
    "    \"talk about driving experience\",\n",
    "    \"talks about features\",\n",
    "    \"talks about value for money\",\n",
    "    \"talks about issues\",\n",
    "    \"other\"\n",
    "    ]\n",
    "\n",
    "# Load the zero-shot classification pipeline\n",
    "zero_shot_classifier = pipeline(\"zero-shot-classification\", model=\"facebook/bart-large-mnli\")\n",
    "\n",
    "# Apply zero-shot classification\n",
    "talks_about = []\n",
    "\n",
    "for review in tqdm(df['Review'], desc=\"Classifying topics\"):\n",
    "    result = zero_shot_classifier(review, labels)\n",
    "    top_label = result['labels'][0]\n",
    "    talks_about.append(top_label)\n",
    "\n",
    "df[\"talks_about\"] = talks_about"
   ]
  }
 ],
 "metadata": {
  "kernelspec": {
   "display_name": ".venv",
   "language": "python",
   "name": "python3"
  },
  "language_info": {
   "codemirror_mode": {
    "name": "ipython",
    "version": 3
   },
   "file_extension": ".py",
   "mimetype": "text/x-python",
   "name": "python",
   "nbconvert_exporter": "python",
   "pygments_lexer": "ipython3",
   "version": "3.12.10"
  }
 },
 "nbformat": 4,
 "nbformat_minor": 5
}
