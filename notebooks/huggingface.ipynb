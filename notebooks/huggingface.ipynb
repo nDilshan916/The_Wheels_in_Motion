{
 "cells": [
  {
   "cell_type": "markdown",
   "id": "d286a1b4",
   "metadata": {},
   "source": [
    "## Import Required Libraries"
   ]
  },
  {
   "cell_type": "code",
   "execution_count": null,
   "id": "5d02b5cf",
   "metadata": {},
   "outputs": [],
   "source": [
    "import pandas as pd\n",
    "import matplotlib.pyplot as plt\n",
    "import seaborn as sns\n",
    "from transformers import pipeline\n",
    "from tqdm import tqdm"
   ]
  },
  {
   "cell_type": "markdown",
   "id": "ec81f9f2",
   "metadata": {},
   "source": [
    "## Load Dataset"
   ]
  },
  {
   "cell_type": "code",
   "execution_count": null,
   "id": "5570aa55",
   "metadata": {},
   "outputs": [],
   "source": [
    "df = pd.read_csv('../data/raw/car_reviews.csv')\n",
    "df.head()\n",
    "df.info()"
   ]
  },
  {
   "cell_type": "markdown",
   "id": "c8593a5d",
   "metadata": {},
   "source": [
    "# Zero-shot Classification"
   ]
  },
  {
   "cell_type": "markdown",
   "id": "6fe9e47e",
   "metadata": {},
   "source": [
    "Model Name: facebook/bart-large-mnli\n",
    "\n",
    "Why?\n",
    "\n",
    "    It's a popular zero-shot text classification model.\n",
    "\n",
    "    Based on BART transformer trained on MNLI (Multi-Genre Natural Language Inference).\n",
    "\n",
    "    High performance in zero-shot inference tasks with label definitions.\n",
    "\n",
    "    Efficient for multi-label or single-label classification without needing retraining."
   ]
  },
  {
   "cell_type": "code",
   "execution_count": null,
   "id": "32a54a6f",
   "metadata": {},
   "outputs": [],
   "source": [
    "# Set up zero-shot classifier\n",
    "classifier = pipeline(\"zero-shot-classification\", model=\"facebook/bart-large-mnli\", device=0)  # use device=0 for GPU\n",
    "\n",
    "# Define candidate labels\n",
    "labels = [\n",
    "    \"talks about driving experience\",\n",
    "    \"talks about features\",\n",
    "    \"talks about value for money\",\n",
    "    \"talks about issues\",\n",
    "    \"other\"\n",
    "]\n",
    "\n",
    "# Batch classification function\n",
    "def classify_in_batches(texts, labels, batch_size=32):\n",
    "    results = []\n",
    "    for i in range(0, len(texts), batch_size):\n",
    "        batch = texts[i:i+batch_size]\n",
    "        outputs = classifier(batch, labels)\n",
    "        for output in outputs:\n",
    "            results.append(output['labels'][0])  # take top predicted label\n",
    "    return results\n",
    "\n",
    "# Run classification on full dataset (all rows)\n",
    "df['talks_about'] = classify_in_batches(df['Review'].tolist(), labels, batch_size=32)\n",
    "\n",
    "# Preview result\n",
    "print(df[['Review', 'talks_about']].head())\n"
   ]
  },
  {
   "cell_type": "markdown",
   "id": "80c31f0b",
   "metadata": {},
   "source": [
    "# Sentiment Analysis "
   ]
  },
  {
   "cell_type": "markdown",
   "id": "f3da70aa",
   "metadata": {},
   "source": [
    "Model Name: distilbert-base-uncased-finetuned-sst-2-english\n",
    "\n",
    "Why?\n",
    "\n",
    "    We selected DistilBERT fine-tuned for sentiment analysis. It is designed for binary classification tasks (POSITIVE or NEGATIVE).\n",
    "\n",
    "    DistilBERT is a smaller and faster version of BERT. It is ideal for working with large datasets like our 6000 reviews.\n",
    "\n",
    "    The model offers a good balance between speed and accuracy, making it efficient for large-scale text processing.\n",
    "\n",
    "    It is a trusted and widely used model on Hugging Face, known for handling general English text like car reviews effectively."
   ]
  },
  {
   "cell_type": "code",
   "execution_count": null,
   "id": "cdcc661a",
   "metadata": {},
   "outputs": [],
   "source": [
    "# Load sentiment analysis pipeline with a specific model and truncation\n",
    "sentiment_model = pipeline(\n",
    "    \"sentiment-analysis\", \n",
    "    model=\"distilbert/distilbert-base-uncased-finetuned-sst-2-english\", \n",
    "    truncation=True, \n",
    "    device=0  # optional: use GPU if available\n",
    ")\n",
    "\n",
    "# Batch prediction function\n",
    "def get_sentiment_in_batches(texts, batch_size=32):\n",
    "    results = []\n",
    "    for i in range(0, len(texts), batch_size):\n",
    "        batch = texts[i:i+batch_size]\n",
    "        outputs = sentiment_model(batch)\n",
    "        for output in outputs:\n",
    "            results.append(output['label'].lower())  # POSITIVE or NEGATIVE\n",
    "    return results\n",
    "\n",
    "# Apply and add sentiment column\n",
    "df['sentiment'] = get_sentiment_in_batches(df['Review'].tolist())"
   ]
  },
  {
   "cell_type": "markdown",
   "id": "1b0ee009",
   "metadata": {},
   "source": [
    "# Visualizations "
   ]
  },
  {
   "cell_type": "code",
   "execution_count": null,
   "id": "b38a8800",
   "metadata": {},
   "outputs": [],
   "source": [
    "# Set style\n",
    "sns.set(style=\"whitegrid\")\n",
    "\n",
    "# Visualization 1: Sentiment Spread\n",
    "plt.figure(figsize=(8, 5))\n",
    "sns.countplot(data=df, x='sentiment', palette='coolwarm')\n",
    "plt.title(\"Sentiment Spread of Car Reviews\")\n",
    "plt.xlabel(\"Sentiment\")\n",
    "plt.ylabel(\"Number of Reviews\")\n",
    "plt.show()\n",
    "\n",
    "# Visualization 2: talks_about Spread\n",
    "plt.figure(figsize=(10, 6))\n",
    "sns.countplot(data=df, y='talks_about', palette='Set3', order=df['talks_about'].value_counts().index)\n",
    "plt.title(\"Distribution of Review Categories\")\n",
    "plt.xlabel(\"Number of Reviews\")\n",
    "plt.ylabel(\"Review Category\")\n",
    "plt.show()"
   ]
  },
  {
   "cell_type": "markdown",
   "id": "4d1296bb",
   "metadata": {},
   "source": [
    "### Save final CSV"
   ]
  },
  {
   "cell_type": "code",
   "execution_count": null,
   "id": "0df74999",
   "metadata": {},
   "outputs": [],
   "source": [
    "# Save to CSV\n",
    "df.to_csv(\"car_reviews_with_classification.csv\", index=False)"
   ]
  }
 ],
 "metadata": {
  "kernelspec": {
   "display_name": ".venv",
   "language": "python",
   "name": "python3"
  },
  "language_info": {
   "codemirror_mode": {
    "name": "ipython",
    "version": 3
   },
   "file_extension": ".py",
   "mimetype": "text/x-python",
   "name": "python",
   "nbconvert_exporter": "python",
   "pygments_lexer": "ipython3",
   "version": "3.12.10"
  }
 },
 "nbformat": 4,
 "nbformat_minor": 5
}
