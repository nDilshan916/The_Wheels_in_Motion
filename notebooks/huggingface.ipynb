{
 "cells": [
  {
   "cell_type": "code",
   "execution_count": null,
   "id": "5d02b5cf",
   "metadata": {},
   "outputs": [],
   "source": [
    "import pandas as pd\n",
    "import matplotlib.pyplot as plt\n",
    "import seaborn as sns\n",
    "from transformers import pipeline\n",
    "from tqdm import tqdm"
   ]
  },
  {
   "cell_type": "code",
   "execution_count": null,
   "id": "5570aa55",
   "metadata": {},
   "outputs": [],
   "source": [
    "df = pd.read_csv('../data/raw/car_reviews.csv')\n",
    "df.head()"
   ]
  },
  {
   "cell_type": "code",
   "execution_count": null,
   "id": "b14267de",
   "metadata": {},
   "outputs": [],
   "source": [
    "df.info()"
   ]
  },
  {
   "cell_type": "markdown",
   "id": "c8593a5d",
   "metadata": {},
   "source": [
    "# Zero-shot Classification"
   ]
  },
  {
   "cell_type": "markdown",
   "id": "6fe9e47e",
   "metadata": {},
   "source": [
    "Model Name: facebook/bart-large-mnli\n",
    "\n",
    "Why?\n",
    "\n",
    "    It's a popular zero-shot text classification model.\n",
    "\n",
    "    Based on BART transformer trained on MNLI (Multi-Genre Natural Language Inference).\n",
    "\n",
    "    High performance in zero-shot inference tasks with label definitions.\n",
    "\n",
    "    Efficient for multi-label or single-label classification without needing retraining."
   ]
  },
  {
   "cell_type": "code",
   "execution_count": null,
   "id": "32a54a6f",
   "metadata": {},
   "outputs": [],
   "source": [
    "labels = [\n",
    "    \"talk about driving experience\",\n",
    "    \"talks about features\",\n",
    "    \"talks about value for money\",\n",
    "    \"talks about issues\",\n",
    "    \"other\"\n",
    "    ]\n",
    "\n",
    "# Load the zero-shot classification pipeline\n",
    "zero_shot_classifier = pipeline(\"zero-shot-classification\", model=\"facebook/bart-large-mnli\")\n",
    "\n",
    "# Apply zero-shot classification\n",
    "talks_about = []\n",
    "\n",
    "for review in tqdm(df['Review'], desc=\"Classifying topics\"):\n",
    "    result = zero_shot_classifier(review, labels)\n",
    "    top_label = result['labels'][0]\n",
    "    talks_about.append(top_label)\n",
    "\n",
    "df[\"talks_about\"] = talks_about"
   ]
  },
  {
   "cell_type": "markdown",
   "id": "80c31f0b",
   "metadata": {},
   "source": [
    "# SENTIMENT ANALYSIS"
   ]
  },
  {
   "cell_type": "code",
   "execution_count": null,
   "id": "cdcc661a",
   "metadata": {},
   "outputs": [],
   "source": [
    "sentiment_classifier = pipeline(\n",
    "    \"sentiment-analysis\",\n",
    "    model=\"distilbert-base-uncased-finetuned-sst-2-english\"\n",
    ")\n",
    "\n",
    "sentiments = []\n",
    "\n",
    "print(\"Detecting sentiment...\")\n",
    "for review in tqdm(df[\"Review\"], desc=\"Sentiment\"):\n",
    "    result = sentiment_classifier(review[:512])  # Truncate if needed\n",
    "    sentiments.append(result[0]['label'].lower())\n",
    "\n",
    "df[\"sentiment\"] = sentiments"
   ]
  }
 ],
 "metadata": {
  "kernelspec": {
   "display_name": ".venv",
   "language": "python",
   "name": "python3"
  },
  "language_info": {
   "codemirror_mode": {
    "name": "ipython",
    "version": 3
   },
   "file_extension": ".py",
   "mimetype": "text/x-python",
   "name": "python",
   "nbconvert_exporter": "python",
   "pygments_lexer": "ipython3",
   "version": "3.12.10"
  }
 },
 "nbformat": 4,
 "nbformat_minor": 5
}
